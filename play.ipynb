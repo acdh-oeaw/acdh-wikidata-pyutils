{
 "cells": [
  {
   "cell_type": "code",
   "execution_count": 1,
   "metadata": {},
   "outputs": [],
   "source": [
    "from AcdhArcheAssets.uri_norm_rules import get_normalized_uri\n",
    "from acdh_wikidata_pyutils import WikiDataPerson"
   ]
  },
  {
   "cell_type": "code",
   "execution_count": 4,
   "metadata": {},
   "outputs": [],
   "source": [
    "ARTHUR_SCHNITZLER = \"https://www.wikidata.org/wiki/Q44331\""
   ]
  },
  {
   "cell_type": "code",
   "execution_count": 5,
   "metadata": {},
   "outputs": [
    {
     "ename": "NoWikiDataUrlException",
     "evalue": "https://www.hansi.org/wiki/Q44331 is no proper Wikidata URL",
     "output_type": "error",
     "traceback": [
      "\u001b[0;31m---------------------------------------------------------------------------\u001b[0m",
      "\u001b[0;31mNoWikiDataUrlException\u001b[0m                    Traceback (most recent call last)",
      "Cell \u001b[0;32mIn[5], line 1\u001b[0m\n\u001b[0;32m----> 1\u001b[0m item \u001b[38;5;241m=\u001b[39m \u001b[43mWikiDataPerson\u001b[49m\u001b[43m(\u001b[49m\u001b[43mschnitzler_arthur\u001b[49m\u001b[43m)\u001b[49m\n",
      "File \u001b[0;32m~/repos/packages/acdh-wikidata-pyutils/acdh_wikidata_pyutils/__init__.py:13\u001b[0m, in \u001b[0;36mWikiDataPerson.__init__\u001b[0;34m(self, wikidata_url)\u001b[0m\n\u001b[1;32m     11\u001b[0m \u001b[38;5;28;01mdef\u001b[39;00m \u001b[38;5;21m__init__\u001b[39m(\u001b[38;5;28mself\u001b[39m, wikidata_url):\n\u001b[1;32m     12\u001b[0m     \u001b[38;5;28;01mif\u001b[39;00m \u001b[38;5;124m\"\u001b[39m\u001b[38;5;124mwikidata\u001b[39m\u001b[38;5;124m\"\u001b[39m \u001b[38;5;129;01mnot\u001b[39;00m \u001b[38;5;129;01min\u001b[39;00m wikidata_url:\n\u001b[0;32m---> 13\u001b[0m         \u001b[38;5;28;01mraise\u001b[39;00m NoWikiDataUrlException(\u001b[38;5;124mf\u001b[39m\u001b[38;5;124m\"\u001b[39m\u001b[38;5;132;01m{\u001b[39;00mwikidata_url\u001b[38;5;132;01m}\u001b[39;00m\u001b[38;5;124m is no proper Wikidata URL\u001b[39m\u001b[38;5;124m\"\u001b[39m)\n\u001b[1;32m     14\u001b[0m     \u001b[38;5;28;01melse\u001b[39;00m:\n\u001b[1;32m     15\u001b[0m         \u001b[38;5;28mself\u001b[39m\u001b[38;5;241m.\u001b[39mwikidata_url \u001b[38;5;241m=\u001b[39m get_normalized_uri(wikidata_url)\n",
      "\u001b[0;31mNoWikiDataUrlException\u001b[0m: https://www.hansi.org/wiki/Q44331 is no proper Wikidata URL"
     ]
    }
   ],
   "source": [
    "item = WikiDataPerson(ARTHUR_SCHNITZLER)"
   ]
  },
  {
   "cell_type": "code",
   "execution_count": null,
   "metadata": {},
   "outputs": [],
   "source": []
  }
 ],
 "metadata": {
  "kernelspec": {
   "display_name": "venv",
   "language": "python",
   "name": "python3"
  },
  "language_info": {
   "codemirror_mode": {
    "name": "ipython",
    "version": 3
   },
   "file_extension": ".py",
   "mimetype": "text/x-python",
   "name": "python",
   "nbconvert_exporter": "python",
   "pygments_lexer": "ipython3",
   "version": "3.10.12"
  }
 },
 "nbformat": 4,
 "nbformat_minor": 2
}
